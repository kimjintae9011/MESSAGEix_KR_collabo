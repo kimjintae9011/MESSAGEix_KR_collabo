{
 "cells": [
  {
   "cell_type": "markdown",
   "metadata": {},
   "source": [
    "## 1. Importing software packages and loading Baseline\n",
    "\n",
    "For running this tutorial, you need to have:\n",
    "- The `message_ix` modeling framework was installed successfully with a version >= 3.4.0 (see instructions [here](https://docs.messageix.org/en/stable/#getting-started) ).\n"
   ]
  },
  {
   "cell_type": "code",
   "execution_count": 1,
   "metadata": {},
   "outputs": [
    {
     "data": {
      "application/javascript": [
       "if (typeof IPython !== 'undefined') { IPython.OutputArea.prototype._should_scroll = function(lines){ return false; }}"
      ],
      "text/plain": [
       "<IPython.core.display.Javascript object>"
      ]
     },
     "metadata": {},
     "output_type": "display_data"
    }
   ],
   "source": [
    "# Importing required software packages\n",
    "import pandas as pd\n",
    "import os\n",
    "import ixmp\n",
    "import message_ix\n",
    "from plotter import plotter"
   ]
  },
  {
   "cell_type": "code",
   "execution_count": 2,
   "metadata": {},
   "outputs": [],
   "source": [
    "# Getting path to this project on your machine\n",
    "# path = os.path.dirname(os.path.realpath(\"__file__\")).strip(\"\\scripts\")\n",
    "path = os.getcwd().strip(\"\\scripts\")"
   ]
  },
  {
   "cell_type": "code",
   "execution_count": 4,
   "metadata": {},
   "outputs": [],
   "source": [
    "# Loading modeling platform (this will link you to your database)\n",
    "mp = ixmp.Platform()"
   ]
  },
  {
   "cell_type": "code",
   "execution_count": 5,
   "metadata": {},
   "outputs": [],
   "source": [
    "# Creating a new scenario with desired model/scenario names\n",
    "model = 'MESSAGEix_KR'\n",
    "scenario = 'baseline'\n",
    "base = message_ix.Scenario(mp, model, scenario, version='new')"
   ]
  },
  {
   "cell_type": "code",
   "execution_count": 6,
   "metadata": {},
   "outputs": [
    {
     "name": "stderr",
     "output_type": "stream",
     "text": [
      "Existing set 'map_tec_storage' has index names(s)  ['node', 'technology', 'storage_tec', 'level', 'commodity'] != ['node', 'technology', 'mode', 'storage_tec', 'storage_mode', 'level', 'commodity', 'lvl_temporal'] in MESSAGEix_KR_baseline.xlsx\n"
     ]
    }
   ],
   "source": [
    "# Specify the filename to the input Excel file\n",
    "filename = '\\\\MESSAGEix_KR_baseline.xlsx'\n",
    "xls_file = path + \"\\\\data\" + filename\n",
    "\n",
    "# Loading data of the Baseline scenario from Excel (may take few minutes)\n",
    "# base.read_excel(\"H:\\MyDocuments\\Projects\\GUIDE\\MESSAGEix_KR_collabo\\data\\MESSAGEix_KR_baseline.xlsx\", init_items=True, add_units=True, commit_steps=True)\n",
    "base.read_excel(xls_file, init_items=True, add_units=True, commit_steps=True)"
   ]
  },
  {
   "cell_type": "markdown",
   "metadata": {},
   "source": [
    "## 2. Looking into model parameters (input data)\n",
    "`message_ix` formulation is written in GAMS, a programming and optimization software. Hence, `message_ix` uses the same syntax as GAMS, which means the model has:\n",
    "- index sets: such as set of technologies ('technology'), locations ('node'), etc.\n",
    "- parameters (input data): such as investment cost ('inv_cost'), capcaity factor ('capacity_factor') etc.\n",
    "- variables (output results): such as total installed capacity ('CAP'), activity ('ACT') etc.\n",
    "\n",
    "You can list these items by using relevant syntax. For example, for listing `message_ix` sets, you can run the command: `base.set_list()`, and for listing available parameters run `base.par_list()`.\n",
    "For more information on each of the model sets and parameters, please refer to the documentation, e.g., [parameter definitions](https://docs.messageix.org/en/master/model/MESSAGE/parameter_def.html). "
   ]
  },
  {
   "cell_type": "markdown",
   "metadata": {},
   "source": [
    "### Hint:\n",
    "You can use python syntax to filter or look for some specific parameters, e.g., containing a word or term in their name (see example below)."
   ]
  },
  {
   "cell_type": "code",
   "execution_count": 7,
   "metadata": {},
   "outputs": [
    {
     "data": {
      "text/plain": [
       "['resource_cost',\n",
       " 'inv_cost',\n",
       " 'fix_cost',\n",
       " 'var_cost',\n",
       " 'abs_cost_new_capacity_soft_up',\n",
       " 'abs_cost_new_capacity_soft_lo',\n",
       " 'level_cost_new_capacity_soft_up',\n",
       " 'level_cost_new_capacity_soft_lo',\n",
       " 'abs_cost_activity_soft_up',\n",
       " 'abs_cost_activity_soft_lo',\n",
       " 'level_cost_activity_soft_up',\n",
       " 'level_cost_activity_soft_lo',\n",
       " 'land_cost',\n",
       " 'relation_cost',\n",
       " 'cost_MESSAGE']"
      ]
     },
     "execution_count": 7,
     "metadata": {},
     "output_type": "execute_result"
    }
   ],
   "source": [
    "# Listing parameters that have a string of \"cost\" in their name\n",
    "[x for x in base.par_list() if 'cost' in x]"
   ]
  },
  {
   "cell_type": "markdown",
   "metadata": {},
   "source": [
    "### 2.1. Loading input data\n",
    "You can load parameters by their name and investigate them. The output will be a python dataframe, which looks like a stacked table. Also, we can load a portion of a parameter data, i.e., by slicing the table. See the examples below:"
   ]
  },
  {
   "cell_type": "code",
   "execution_count": 8,
   "metadata": {},
   "outputs": [
    {
     "data": {
      "text/html": [
       "<div>\n",
       "<style scoped>\n",
       "    .dataframe tbody tr th:only-of-type {\n",
       "        vertical-align: middle;\n",
       "    }\n",
       "\n",
       "    .dataframe tbody tr th {\n",
       "        vertical-align: top;\n",
       "    }\n",
       "\n",
       "    .dataframe thead th {\n",
       "        text-align: right;\n",
       "    }\n",
       "</style>\n",
       "<table border=\"1\" class=\"dataframe\">\n",
       "  <thead>\n",
       "    <tr style=\"text-align: right;\">\n",
       "      <th></th>\n",
       "      <th>node_loc</th>\n",
       "      <th>technology</th>\n",
       "      <th>year_vtg</th>\n",
       "      <th>year_act</th>\n",
       "      <th>mode</th>\n",
       "      <th>time</th>\n",
       "      <th>value</th>\n",
       "      <th>unit</th>\n",
       "    </tr>\n",
       "  </thead>\n",
       "  <tbody>\n",
       "    <tr>\n",
       "      <th>0</th>\n",
       "      <td>Korea</td>\n",
       "      <td>CF4_TCE</td>\n",
       "      <td>1990</td>\n",
       "      <td>1990</td>\n",
       "      <td>M1</td>\n",
       "      <td>year</td>\n",
       "      <td>0.0</td>\n",
       "      <td>USD/kWa</td>\n",
       "    </tr>\n",
       "    <tr>\n",
       "      <th>1</th>\n",
       "      <td>Korea</td>\n",
       "      <td>CF4_TCE</td>\n",
       "      <td>1995</td>\n",
       "      <td>1995</td>\n",
       "      <td>M1</td>\n",
       "      <td>year</td>\n",
       "      <td>0.0</td>\n",
       "      <td>USD/kWa</td>\n",
       "    </tr>\n",
       "    <tr>\n",
       "      <th>2</th>\n",
       "      <td>Korea</td>\n",
       "      <td>CF4_TCE</td>\n",
       "      <td>2000</td>\n",
       "      <td>2000</td>\n",
       "      <td>M1</td>\n",
       "      <td>year</td>\n",
       "      <td>0.0</td>\n",
       "      <td>USD/kWa</td>\n",
       "    </tr>\n",
       "    <tr>\n",
       "      <th>3</th>\n",
       "      <td>Korea</td>\n",
       "      <td>CF4_TCE</td>\n",
       "      <td>2005</td>\n",
       "      <td>2005</td>\n",
       "      <td>M1</td>\n",
       "      <td>year</td>\n",
       "      <td>0.0</td>\n",
       "      <td>USD/kWa</td>\n",
       "    </tr>\n",
       "    <tr>\n",
       "      <th>4</th>\n",
       "      <td>Korea</td>\n",
       "      <td>CF4_TCE</td>\n",
       "      <td>2010</td>\n",
       "      <td>2010</td>\n",
       "      <td>M1</td>\n",
       "      <td>year</td>\n",
       "      <td>0.0</td>\n",
       "      <td>USD/kWa</td>\n",
       "    </tr>\n",
       "    <tr>\n",
       "      <th>...</th>\n",
       "      <td>...</td>\n",
       "      <td>...</td>\n",
       "      <td>...</td>\n",
       "      <td>...</td>\n",
       "      <td>...</td>\n",
       "      <td>...</td>\n",
       "      <td>...</td>\n",
       "      <td>...</td>\n",
       "    </tr>\n",
       "    <tr>\n",
       "      <th>12807</th>\n",
       "      <td>Korea</td>\n",
       "      <td>gas_imp</td>\n",
       "      <td>2060</td>\n",
       "      <td>2060</td>\n",
       "      <td>M1</td>\n",
       "      <td>year</td>\n",
       "      <td>0.0</td>\n",
       "      <td>USD/kWa</td>\n",
       "    </tr>\n",
       "    <tr>\n",
       "      <th>12808</th>\n",
       "      <td>Korea</td>\n",
       "      <td>gas_imp</td>\n",
       "      <td>2070</td>\n",
       "      <td>2070</td>\n",
       "      <td>M1</td>\n",
       "      <td>year</td>\n",
       "      <td>0.0</td>\n",
       "      <td>USD/kWa</td>\n",
       "    </tr>\n",
       "    <tr>\n",
       "      <th>12809</th>\n",
       "      <td>Korea</td>\n",
       "      <td>gas_imp</td>\n",
       "      <td>2080</td>\n",
       "      <td>2080</td>\n",
       "      <td>M1</td>\n",
       "      <td>year</td>\n",
       "      <td>0.0</td>\n",
       "      <td>USD/kWa</td>\n",
       "    </tr>\n",
       "    <tr>\n",
       "      <th>12810</th>\n",
       "      <td>Korea</td>\n",
       "      <td>gas_imp</td>\n",
       "      <td>2090</td>\n",
       "      <td>2090</td>\n",
       "      <td>M1</td>\n",
       "      <td>year</td>\n",
       "      <td>0.0</td>\n",
       "      <td>USD/kWa</td>\n",
       "    </tr>\n",
       "    <tr>\n",
       "      <th>12811</th>\n",
       "      <td>Korea</td>\n",
       "      <td>gas_imp</td>\n",
       "      <td>2100</td>\n",
       "      <td>2100</td>\n",
       "      <td>M1</td>\n",
       "      <td>year</td>\n",
       "      <td>0.0</td>\n",
       "      <td>USD/kWa</td>\n",
       "    </tr>\n",
       "  </tbody>\n",
       "</table>\n",
       "<p>12812 rows × 8 columns</p>\n",
       "</div>"
      ],
      "text/plain": [
       "      node_loc technology  year_vtg  year_act mode  time  value     unit\n",
       "0        Korea    CF4_TCE      1990      1990   M1  year    0.0  USD/kWa\n",
       "1        Korea    CF4_TCE      1995      1995   M1  year    0.0  USD/kWa\n",
       "2        Korea    CF4_TCE      2000      2000   M1  year    0.0  USD/kWa\n",
       "3        Korea    CF4_TCE      2005      2005   M1  year    0.0  USD/kWa\n",
       "4        Korea    CF4_TCE      2010      2010   M1  year    0.0  USD/kWa\n",
       "...        ...        ...       ...       ...  ...   ...    ...      ...\n",
       "12807    Korea    gas_imp      2060      2060   M1  year    0.0  USD/kWa\n",
       "12808    Korea    gas_imp      2070      2070   M1  year    0.0  USD/kWa\n",
       "12809    Korea    gas_imp      2080      2080   M1  year    0.0  USD/kWa\n",
       "12810    Korea    gas_imp      2090      2090   M1  year    0.0  USD/kWa\n",
       "12811    Korea    gas_imp      2100      2100   M1  year    0.0  USD/kWa\n",
       "\n",
       "[12812 rows x 8 columns]"
      ]
     },
     "execution_count": 8,
     "metadata": {},
     "output_type": "execute_result"
    }
   ],
   "source": [
    "# Loading data of a parameter (with no filter, it returns the entire table)\n",
    "parname = 'var_cost'   # variable O&M cost\n",
    "table = base.par(parname)\n",
    "# see the table and column names (if the table is large, you will only see the beginning and end rows)\n",
    "table"
   ]
  },
  {
   "cell_type": "code",
   "execution_count": 9,
   "metadata": {},
   "outputs": [
    {
     "data": {
      "text/html": [
       "<div>\n",
       "<style scoped>\n",
       "    .dataframe tbody tr th:only-of-type {\n",
       "        vertical-align: middle;\n",
       "    }\n",
       "\n",
       "    .dataframe tbody tr th {\n",
       "        vertical-align: top;\n",
       "    }\n",
       "\n",
       "    .dataframe thead th {\n",
       "        text-align: right;\n",
       "    }\n",
       "</style>\n",
       "<table border=\"1\" class=\"dataframe\">\n",
       "  <thead>\n",
       "    <tr style=\"text-align: right;\">\n",
       "      <th></th>\n",
       "      <th>node_loc</th>\n",
       "      <th>technology</th>\n",
       "      <th>year_vtg</th>\n",
       "      <th>value</th>\n",
       "      <th>unit</th>\n",
       "    </tr>\n",
       "  </thead>\n",
       "  <tbody>\n",
       "    <tr>\n",
       "      <th>0</th>\n",
       "      <td>Korea</td>\n",
       "      <td>coal_ppl</td>\n",
       "      <td>2020</td>\n",
       "      <td>809.75</td>\n",
       "      <td>USD/kW</td>\n",
       "    </tr>\n",
       "    <tr>\n",
       "      <th>1</th>\n",
       "      <td>Korea</td>\n",
       "      <td>coal_ppl</td>\n",
       "      <td>2030</td>\n",
       "      <td>1037.49</td>\n",
       "      <td>USD/kW</td>\n",
       "    </tr>\n",
       "    <tr>\n",
       "      <th>2</th>\n",
       "      <td>Korea</td>\n",
       "      <td>coal_ppl</td>\n",
       "      <td>2040</td>\n",
       "      <td>1168.04</td>\n",
       "      <td>USD/kW</td>\n",
       "    </tr>\n",
       "    <tr>\n",
       "      <th>3</th>\n",
       "      <td>Korea</td>\n",
       "      <td>coal_ppl</td>\n",
       "      <td>2050</td>\n",
       "      <td>1225.15</td>\n",
       "      <td>USD/kW</td>\n",
       "    </tr>\n",
       "    <tr>\n",
       "      <th>4</th>\n",
       "      <td>Korea</td>\n",
       "      <td>coal_ppl</td>\n",
       "      <td>2060</td>\n",
       "      <td>1230.70</td>\n",
       "      <td>USD/kW</td>\n",
       "    </tr>\n",
       "    <tr>\n",
       "      <th>5</th>\n",
       "      <td>Korea</td>\n",
       "      <td>coal_ppl</td>\n",
       "      <td>2070</td>\n",
       "      <td>1206.54</td>\n",
       "      <td>USD/kW</td>\n",
       "    </tr>\n",
       "    <tr>\n",
       "      <th>6</th>\n",
       "      <td>Korea</td>\n",
       "      <td>coal_ppl</td>\n",
       "      <td>2080</td>\n",
       "      <td>1174.57</td>\n",
       "      <td>USD/kW</td>\n",
       "    </tr>\n",
       "    <tr>\n",
       "      <th>7</th>\n",
       "      <td>Korea</td>\n",
       "      <td>coal_ppl</td>\n",
       "      <td>2090</td>\n",
       "      <td>1156.64</td>\n",
       "      <td>USD/kW</td>\n",
       "    </tr>\n",
       "    <tr>\n",
       "      <th>8</th>\n",
       "      <td>Korea</td>\n",
       "      <td>coal_ppl</td>\n",
       "      <td>2100</td>\n",
       "      <td>1174.64</td>\n",
       "      <td>USD/kW</td>\n",
       "    </tr>\n",
       "    <tr>\n",
       "      <th>9</th>\n",
       "      <td>Korea</td>\n",
       "      <td>coal_ppl</td>\n",
       "      <td>2015</td>\n",
       "      <td>809.75</td>\n",
       "      <td>USD/kW</td>\n",
       "    </tr>\n",
       "    <tr>\n",
       "      <th>10</th>\n",
       "      <td>Korea</td>\n",
       "      <td>coal_ppl</td>\n",
       "      <td>2025</td>\n",
       "      <td>923.62</td>\n",
       "      <td>USD/kW</td>\n",
       "    </tr>\n",
       "    <tr>\n",
       "      <th>11</th>\n",
       "      <td>Korea</td>\n",
       "      <td>coal_ppl</td>\n",
       "      <td>2035</td>\n",
       "      <td>1102.77</td>\n",
       "      <td>USD/kW</td>\n",
       "    </tr>\n",
       "    <tr>\n",
       "      <th>12</th>\n",
       "      <td>Korea</td>\n",
       "      <td>coal_ppl</td>\n",
       "      <td>2045</td>\n",
       "      <td>1196.60</td>\n",
       "      <td>USD/kW</td>\n",
       "    </tr>\n",
       "    <tr>\n",
       "      <th>13</th>\n",
       "      <td>Korea</td>\n",
       "      <td>coal_ppl</td>\n",
       "      <td>2055</td>\n",
       "      <td>1227.92</td>\n",
       "      <td>USD/kW</td>\n",
       "    </tr>\n",
       "    <tr>\n",
       "      <th>14</th>\n",
       "      <td>Korea</td>\n",
       "      <td>coal_ppl</td>\n",
       "      <td>2010</td>\n",
       "      <td>809.75</td>\n",
       "      <td>USD/kW</td>\n",
       "    </tr>\n",
       "    <tr>\n",
       "      <th>15</th>\n",
       "      <td>Korea</td>\n",
       "      <td>coal_ppl</td>\n",
       "      <td>2005</td>\n",
       "      <td>809.75</td>\n",
       "      <td>USD/kW</td>\n",
       "    </tr>\n",
       "    <tr>\n",
       "      <th>16</th>\n",
       "      <td>Korea</td>\n",
       "      <td>coal_ppl</td>\n",
       "      <td>2000</td>\n",
       "      <td>809.75</td>\n",
       "      <td>USD/kW</td>\n",
       "    </tr>\n",
       "    <tr>\n",
       "      <th>17</th>\n",
       "      <td>Korea</td>\n",
       "      <td>coal_ppl</td>\n",
       "      <td>1995</td>\n",
       "      <td>809.75</td>\n",
       "      <td>USD/kW</td>\n",
       "    </tr>\n",
       "    <tr>\n",
       "      <th>18</th>\n",
       "      <td>Korea</td>\n",
       "      <td>coal_ppl</td>\n",
       "      <td>1990</td>\n",
       "      <td>809.75</td>\n",
       "      <td>USD/kW</td>\n",
       "    </tr>\n",
       "    <tr>\n",
       "      <th>19</th>\n",
       "      <td>Korea</td>\n",
       "      <td>coal_ppl</td>\n",
       "      <td>1985</td>\n",
       "      <td>809.75</td>\n",
       "      <td>USD/kW</td>\n",
       "    </tr>\n",
       "    <tr>\n",
       "      <th>20</th>\n",
       "      <td>Korea</td>\n",
       "      <td>coal_ppl</td>\n",
       "      <td>1980</td>\n",
       "      <td>809.75</td>\n",
       "      <td>USD/kW</td>\n",
       "    </tr>\n",
       "    <tr>\n",
       "      <th>21</th>\n",
       "      <td>Korea</td>\n",
       "      <td>coal_ppl</td>\n",
       "      <td>1975</td>\n",
       "      <td>809.75</td>\n",
       "      <td>USD/kW</td>\n",
       "    </tr>\n",
       "    <tr>\n",
       "      <th>22</th>\n",
       "      <td>Korea</td>\n",
       "      <td>coal_ppl</td>\n",
       "      <td>1970</td>\n",
       "      <td>809.75</td>\n",
       "      <td>USD/kW</td>\n",
       "    </tr>\n",
       "  </tbody>\n",
       "</table>\n",
       "</div>"
      ],
      "text/plain": [
       "   node_loc technology  year_vtg    value    unit\n",
       "0     Korea   coal_ppl      2020   809.75  USD/kW\n",
       "1     Korea   coal_ppl      2030  1037.49  USD/kW\n",
       "2     Korea   coal_ppl      2040  1168.04  USD/kW\n",
       "3     Korea   coal_ppl      2050  1225.15  USD/kW\n",
       "4     Korea   coal_ppl      2060  1230.70  USD/kW\n",
       "5     Korea   coal_ppl      2070  1206.54  USD/kW\n",
       "6     Korea   coal_ppl      2080  1174.57  USD/kW\n",
       "7     Korea   coal_ppl      2090  1156.64  USD/kW\n",
       "8     Korea   coal_ppl      2100  1174.64  USD/kW\n",
       "9     Korea   coal_ppl      2015   809.75  USD/kW\n",
       "10    Korea   coal_ppl      2025   923.62  USD/kW\n",
       "11    Korea   coal_ppl      2035  1102.77  USD/kW\n",
       "12    Korea   coal_ppl      2045  1196.60  USD/kW\n",
       "13    Korea   coal_ppl      2055  1227.92  USD/kW\n",
       "14    Korea   coal_ppl      2010   809.75  USD/kW\n",
       "15    Korea   coal_ppl      2005   809.75  USD/kW\n",
       "16    Korea   coal_ppl      2000   809.75  USD/kW\n",
       "17    Korea   coal_ppl      1995   809.75  USD/kW\n",
       "18    Korea   coal_ppl      1990   809.75  USD/kW\n",
       "19    Korea   coal_ppl      1985   809.75  USD/kW\n",
       "20    Korea   coal_ppl      1980   809.75  USD/kW\n",
       "21    Korea   coal_ppl      1975   809.75  USD/kW\n",
       "22    Korea   coal_ppl      1970   809.75  USD/kW"
      ]
     },
     "execution_count": 9,
     "metadata": {},
     "output_type": "execute_result"
    }
   ],
   "source": [
    "# Loading data of a parameter, by filtering a portion of the table\n",
    "parname = 'inv_cost'   # CAPEX\n",
    "tec = 'coal_ppl'       # coal power plant\n",
    "node = 'Korea'           # Korea\n",
    "\n",
    "# Notice the syntax for filtering\n",
    "table = base.par(parname, {'technology': tec, 'node_loc':node})\n",
    "# see the table and column names\n",
    "table"
   ]
  },
  {
   "cell_type": "code",
   "execution_count": 10,
   "metadata": {},
   "outputs": [
    {
     "data": {
      "text/html": [
       "<div>\n",
       "<style scoped>\n",
       "    .dataframe tbody tr th:only-of-type {\n",
       "        vertical-align: middle;\n",
       "    }\n",
       "\n",
       "    .dataframe tbody tr th {\n",
       "        vertical-align: top;\n",
       "    }\n",
       "\n",
       "    .dataframe thead th {\n",
       "        text-align: right;\n",
       "    }\n",
       "</style>\n",
       "<table border=\"1\" class=\"dataframe\">\n",
       "  <thead>\n",
       "    <tr style=\"text-align: right;\">\n",
       "      <th></th>\n",
       "      <th>node_loc</th>\n",
       "      <th>technology</th>\n",
       "      <th>year_vtg</th>\n",
       "      <th>year_act</th>\n",
       "      <th>mode</th>\n",
       "      <th>time</th>\n",
       "      <th>value</th>\n",
       "      <th>unit</th>\n",
       "    </tr>\n",
       "  </thead>\n",
       "  <tbody>\n",
       "    <tr>\n",
       "      <th>1048</th>\n",
       "      <td>Korea</td>\n",
       "      <td>coal_extr</td>\n",
       "      <td>2020</td>\n",
       "      <td>2025</td>\n",
       "      <td>M1</td>\n",
       "      <td>year</td>\n",
       "      <td>15.0</td>\n",
       "      <td>USD/kWa</td>\n",
       "    </tr>\n",
       "    <tr>\n",
       "      <th>1049</th>\n",
       "      <td>Korea</td>\n",
       "      <td>coal_extr</td>\n",
       "      <td>2025</td>\n",
       "      <td>2025</td>\n",
       "      <td>M1</td>\n",
       "      <td>year</td>\n",
       "      <td>15.0</td>\n",
       "      <td>USD/kWa</td>\n",
       "    </tr>\n",
       "    <tr>\n",
       "      <th>1050</th>\n",
       "      <td>Korea</td>\n",
       "      <td>coal_extr</td>\n",
       "      <td>2025</td>\n",
       "      <td>2030</td>\n",
       "      <td>M1</td>\n",
       "      <td>year</td>\n",
       "      <td>15.0</td>\n",
       "      <td>USD/kWa</td>\n",
       "    </tr>\n",
       "    <tr>\n",
       "      <th>1051</th>\n",
       "      <td>Korea</td>\n",
       "      <td>coal_extr</td>\n",
       "      <td>2030</td>\n",
       "      <td>2030</td>\n",
       "      <td>M1</td>\n",
       "      <td>year</td>\n",
       "      <td>15.0</td>\n",
       "      <td>USD/kWa</td>\n",
       "    </tr>\n",
       "    <tr>\n",
       "      <th>1052</th>\n",
       "      <td>Korea</td>\n",
       "      <td>coal_extr</td>\n",
       "      <td>2030</td>\n",
       "      <td>2035</td>\n",
       "      <td>M1</td>\n",
       "      <td>year</td>\n",
       "      <td>15.0</td>\n",
       "      <td>USD/kWa</td>\n",
       "    </tr>\n",
       "    <tr>\n",
       "      <th>1053</th>\n",
       "      <td>Korea</td>\n",
       "      <td>coal_extr</td>\n",
       "      <td>2035</td>\n",
       "      <td>2035</td>\n",
       "      <td>M1</td>\n",
       "      <td>year</td>\n",
       "      <td>15.0</td>\n",
       "      <td>USD/kWa</td>\n",
       "    </tr>\n",
       "    <tr>\n",
       "      <th>1054</th>\n",
       "      <td>Korea</td>\n",
       "      <td>coal_extr</td>\n",
       "      <td>2035</td>\n",
       "      <td>2040</td>\n",
       "      <td>M1</td>\n",
       "      <td>year</td>\n",
       "      <td>15.0</td>\n",
       "      <td>USD/kWa</td>\n",
       "    </tr>\n",
       "    <tr>\n",
       "      <th>1055</th>\n",
       "      <td>Korea</td>\n",
       "      <td>coal_extr</td>\n",
       "      <td>2040</td>\n",
       "      <td>2040</td>\n",
       "      <td>M1</td>\n",
       "      <td>year</td>\n",
       "      <td>15.0</td>\n",
       "      <td>USD/kWa</td>\n",
       "    </tr>\n",
       "  </tbody>\n",
       "</table>\n",
       "</div>"
      ],
      "text/plain": [
       "     node_loc technology  year_vtg  year_act mode  time  value     unit\n",
       "1048    Korea  coal_extr      2020      2025   M1  year   15.0  USD/kWa\n",
       "1049    Korea  coal_extr      2025      2025   M1  year   15.0  USD/kWa\n",
       "1050    Korea  coal_extr      2025      2030   M1  year   15.0  USD/kWa\n",
       "1051    Korea  coal_extr      2030      2030   M1  year   15.0  USD/kWa\n",
       "1052    Korea  coal_extr      2030      2035   M1  year   15.0  USD/kWa\n",
       "1053    Korea  coal_extr      2035      2035   M1  year   15.0  USD/kWa\n",
       "1054    Korea  coal_extr      2035      2040   M1  year   15.0  USD/kWa\n",
       "1055    Korea  coal_extr      2040      2040   M1  year   15.0  USD/kWa"
      ]
     },
     "execution_count": 10,
     "metadata": {},
     "output_type": "execute_result"
    }
   ],
   "source": [
    "# Loading data of a parameter, even with more filters\n",
    "parname = 'var_cost'   # variable O&M cost\n",
    "techno = 'coal_extr'   # coal extraction process\n",
    "node = 'Korea'           # Uzbekistan\n",
    "years = [2025, 2030, 2035, 2040]           # activity years of 2025-2040\n",
    "\n",
    "# Notice the syntax when we pass a list to an index\n",
    "table = base.par(parname, {'technology': techno, 'node_loc':node,\n",
    "                           'year_act': years})\n",
    "# see the content\n",
    "table  "
   ]
  },
  {
   "cell_type": "code",
   "execution_count": 11,
   "metadata": {},
   "outputs": [
    {
     "data": {
      "text/plain": [
       "['node_loc', 'technology', 'year_vtg']"
      ]
     },
     "execution_count": 11,
     "metadata": {},
     "output_type": "execute_result"
    }
   ],
   "source": [
    "# If you don't know the index names related to the parameter (i.e., column names of the table), you can see them by:\n",
    "base.idx_names('inv_cost')"
   ]
  },
  {
   "cell_type": "markdown",
   "metadata": {},
   "source": [
    "### Info (1): units in the MESSAGEix_KR model\n",
    "As you saw in the example above, \"unit\" is not listed as an index. In the MESSAGEix formulation, \"unit\" is defined by the user just for information, and it does NOT affect the calculations. In other words, MESSAGEix does not check the units, nor convert them. Hence, this is the user that should be careful when defining parameters and adding \"value\" to the parameters to ensure consistency and accuracy of the units. In the MESSAGEix_KR model, the units are as follows:\n",
    "- unit of capacity: GW\n",
    "- unit of activity: GWa (gigawatts-year) (1 GWa = 8.76 TWh)\n",
    "- unit of investment cost: \\\\$/kW (= M\\\\$/GW)\n",
    "- unit of variable cost: \\\\$/kWa (= M\\\\$/GWa)\n",
    "- unit of water flow: 1000 m3/s (thousand cubic meter per second)\n",
    "- unit of CO2 emission: Mt of Ceq\n",
    "- unit of other emissions: kt"
   ]
  },
  {
   "cell_type": "markdown",
   "metadata": {},
   "source": [
    "### 2.2. Visualizing input data\n",
    "You can visualize input data and investigate them. For this, you can use python visualization methods or a few functions provided in this repository."
   ]
  },
  {
   "cell_type": "code",
   "execution_count": 12,
   "metadata": {},
   "outputs": [
    {
     "data": {
      "text/plain": [
       "<Axes: title={'center': 'CAPEX of solar_pv_ppl ($/kW)'}, xlabel='Year'>"
      ]
     },
     "execution_count": 12,
     "metadata": {},
     "output_type": "execute_result"
    },
    {
     "data": {
      "image/png": "[encoded data removed]",
      "text/plain": [
       "<Figure size 640x480 with 1 Axes>"
      ]
     },
     "metadata": {},
     "output_type": "display_data"
    }
   ],
   "source": [
    "# Visualizing input data in a parameter for certain technologies or commodities\n",
    "node = \"Korea\"\n",
    "tec = \"solar_pv_ppl\"        # solar PV\n",
    "parameter = \"inv_cost\"      # CAPEX\n",
    "df = base.par(parameter, {\"technology\": tec, \"node_loc\": node}).sort_values([\"year_vtg\"])\n",
    "df = df.loc[df[\"year_vtg\"] >= 2015]\n",
    "\n",
    "# Plotting\n",
    "pl = pd.Series(df[\"value\"].to_list(),\n",
    "                        index=pd.Index(df[\"year_vtg\"].to_list(), name='Year'))\n",
    "pl.plot(title='CAPEX of {} ($/kW)'.format(tec), ylim=[0, 1500])"
   ]
  },
  {
   "cell_type": "markdown",
   "metadata": {
    "collapsed": true
   },
   "source": [
    "## 4. Solving the scenario\n",
    "After committing the changes, we are ready to solve the scenario. Solving the scenario means sending the input data from your database to GAMS formulation in the form of GDX files, solving the mathematical formulation, and retrieving the output results (MESSAGEix variables) back to your database. If solving the scenario succeeds without an error, we will be able to look into the results. Otherwise, you need to find out why the scenario has been insolvable.\n",
    "\n",
    "#### Tip (1): Solver options\n",
    "Large MESSAGEix models solve more quickly in \"Barrier\" method when using CPLEX as the solver. You can pass this option through `solve_options` arguments as below.\n",
    "\n",
    "#### Tip (2): Case name\n",
    "You can send your scenario for solving with a user-defined name. This name will be used to name the GDX files in GAMS, and it does not change the model/scenario name in your scenario database. You can leave the case name empty."
   ]
  },
  {
   "cell_type": "code",
   "execution_count": 14,
   "metadata": {},
   "outputs": [],
   "source": [
    "# Solving the scenario (may up to 3 minutes)\n",
    "casename = ('_').join([base.model, base.scenario, str(base.version)])\n",
    "base.solve(solve_options={'lpmethod': '4'})\n",
    "#base.solve(model='MESSAGE-MACRO', solve_options={'lpmethod': '4'})"
   ]
  },
  {
   "cell_type": "code",
   "execution_count": 15,
   "metadata": {},
   "outputs": [
    {
     "data": {
      "text/plain": [
       "1"
      ]
     },
     "execution_count": 15,
     "metadata": {},
     "output_type": "execute_result"
    }
   ],
   "source": [
    "# See the version of this scenario in your database\n",
    "base.version"
   ]
  },
  {
   "cell_type": "markdown",
   "metadata": {},
   "source": [
    "## 4.1. Visualizing output results\n",
    "In this part, we can visualize some output results both on the sub-annual and yearly basis."
   ]
  },
  {
   "cell_type": "code",
   "execution_count": 16,
   "metadata": {},
   "outputs": [
    {
     "ename": "OSError",
     "evalue": "Cannot save file into a non-existent directory: 'C:\\Users\\kimc0\\MESSAGEix_KR_collabo\\data\\results\\plots'",
     "output_type": "error",
     "traceback": [
      "\u001b[1;31m---------------------------------------------------------------------------\u001b[0m",
      "\u001b[1;31mOSError\u001b[0m                                   Traceback (most recent call last)",
      "Cell \u001b[1;32mIn[16], line 2\u001b[0m\n\u001b[0;32m      1\u001b[0m \u001b[38;5;28;01mfrom\u001b[39;00m \u001b[38;5;21;01mplotter\u001b[39;00m \u001b[38;5;28;01mimport\u001b[39;00m plotter\n\u001b[1;32m----> 2\u001b[0m \u001b[43mplotter\u001b[49m\u001b[43m(\u001b[49m\u001b[38;5;124;43m\"\u001b[39;49m\u001b[38;5;124;43mKorea baseline\u001b[39;49m\u001b[38;5;124;43m\"\u001b[39;49m\u001b[43m,\u001b[49m\u001b[43m \u001b[49m\u001b[43mbase\u001b[49m\u001b[43m,\u001b[49m\u001b[43m \u001b[49m\u001b[38;5;124;43m\"\u001b[39;49m\u001b[38;5;124;43mKorea\u001b[39;49m\u001b[38;5;124;43m\"\u001b[39;49m\u001b[43m,\u001b[49m\u001b[43m \u001b[49m\u001b[43mpath\u001b[49m\u001b[43m \u001b[49m\u001b[38;5;241;43m+\u001b[39;49m\u001b[43m \u001b[49m\u001b[38;5;124;43m\"\u001b[39;49m\u001b[38;5;124;43m//data/results\u001b[39;49m\u001b[38;5;124;43m\"\u001b[39;49m\u001b[43m)\u001b[49m\n",
      "File \u001b[1;32m~\\MESSAGEix_KR_collabo\\scripts\\plotter.py:68\u001b[0m, in \u001b[0;36mplotter\u001b[1;34m(caseName, msgSC, nodeloc, path, yr_min, yr_max, emission_relation)\u001b[0m\n\u001b[0;32m     42\u001b[0m \u001b[38;5;250m\u001b[39m\u001b[38;5;124;03m\"\"\"\u001b[39;00m\n\u001b[0;32m     43\u001b[0m \u001b[38;5;124;03mPlots the model output for key indicators, saves the data of plots in\u001b[39;00m\n\u001b[0;32m     44\u001b[0m \u001b[38;5;124;03man Excel file, and creates a PDF of the figures.\u001b[39;00m\n\u001b[1;32m   (...)\u001b[0m\n\u001b[0;32m     63\u001b[0m \n\u001b[0;32m     64\u001b[0m \u001b[38;5;124;03m\"\"\"\u001b[39;00m\n\u001b[0;32m     66\u001b[0m \u001b[38;5;66;03m# 1) Initialization and importing required data\u001b[39;00m\n\u001b[0;32m     67\u001b[0m \u001b[38;5;66;03m# Prepration for Excel writings\u001b[39;00m\n\u001b[1;32m---> 68\u001b[0m writer_xls \u001b[38;5;241m=\u001b[39m \u001b[43mpd\u001b[49m\u001b[38;5;241;43m.\u001b[39;49m\u001b[43mExcelWriter\u001b[49m\u001b[43m(\u001b[49m\u001b[43mpath\u001b[49m\u001b[43m \u001b[49m\u001b[38;5;241;43m+\u001b[39;49m\u001b[43m \u001b[49m\u001b[38;5;124;43m'\u001b[39;49m\u001b[38;5;130;43;01m\\\\\u001b[39;49;00m\u001b[38;5;124;43mplots\u001b[39;49m\u001b[38;5;130;43;01m\\\\\u001b[39;49;00m\u001b[38;5;124;43m'\u001b[39;49m\u001b[43m \u001b[49m\u001b[38;5;241;43m+\u001b[39;49m\u001b[43m \u001b[49m\u001b[43mcaseName\u001b[49m\u001b[43m \u001b[49m\u001b[38;5;241;43m+\u001b[39;49m\u001b[43m \u001b[49m\u001b[38;5;124;43m'\u001b[39;49m\u001b[38;5;124;43m.xlsx\u001b[39;49m\u001b[38;5;124;43m'\u001b[39;49m\u001b[43m,\u001b[49m\n\u001b[0;32m     69\u001b[0m \u001b[43m                            \u001b[49m\u001b[43mengine\u001b[49m\u001b[38;5;241;43m=\u001b[39;49m\u001b[38;5;124;43m'\u001b[39;49m\u001b[38;5;124;43mxlsxwriter\u001b[39;49m\u001b[38;5;124;43m'\u001b[39;49m\u001b[43m)\u001b[49m\n\u001b[0;32m     71\u001b[0m \u001b[38;5;66;03m# Reading the solution from gdx\u001b[39;00m\n\u001b[0;32m     72\u001b[0m \u001b[38;5;28;01mif\u001b[39;00m \u001b[38;5;129;01mnot\u001b[39;00m msgSC\u001b[38;5;241m.\u001b[39mhas_solution():\n",
      "File \u001b[1;32m~\\anaconda3\\envs\\message_env\\lib\\site-packages\\pandas\\io\\excel\\_xlsxwriter.py:199\u001b[0m, in \u001b[0;36mXlsxWriter.__init__\u001b[1;34m(self, path, engine, date_format, datetime_format, mode, storage_options, if_sheet_exists, engine_kwargs, **kwargs)\u001b[0m\n\u001b[0;32m    196\u001b[0m \u001b[38;5;28;01mif\u001b[39;00m mode \u001b[38;5;241m==\u001b[39m \u001b[38;5;124m\"\u001b[39m\u001b[38;5;124ma\u001b[39m\u001b[38;5;124m\"\u001b[39m:\n\u001b[0;32m    197\u001b[0m     \u001b[38;5;28;01mraise\u001b[39;00m \u001b[38;5;167;01mValueError\u001b[39;00m(\u001b[38;5;124m\"\u001b[39m\u001b[38;5;124mAppend mode is not supported with xlsxwriter!\u001b[39m\u001b[38;5;124m\"\u001b[39m)\n\u001b[1;32m--> 199\u001b[0m \u001b[38;5;28;43msuper\u001b[39;49m\u001b[43m(\u001b[49m\u001b[43m)\u001b[49m\u001b[38;5;241;43m.\u001b[39;49m\u001b[38;5;21;43m__init__\u001b[39;49m\u001b[43m(\u001b[49m\n\u001b[0;32m    200\u001b[0m \u001b[43m    \u001b[49m\u001b[43mpath\u001b[49m\u001b[43m,\u001b[49m\n\u001b[0;32m    201\u001b[0m \u001b[43m    \u001b[49m\u001b[43mengine\u001b[49m\u001b[38;5;241;43m=\u001b[39;49m\u001b[43mengine\u001b[49m\u001b[43m,\u001b[49m\n\u001b[0;32m    202\u001b[0m \u001b[43m    \u001b[49m\u001b[43mdate_format\u001b[49m\u001b[38;5;241;43m=\u001b[39;49m\u001b[43mdate_format\u001b[49m\u001b[43m,\u001b[49m\n\u001b[0;32m    203\u001b[0m \u001b[43m    \u001b[49m\u001b[43mdatetime_format\u001b[49m\u001b[38;5;241;43m=\u001b[39;49m\u001b[43mdatetime_format\u001b[49m\u001b[43m,\u001b[49m\n\u001b[0;32m    204\u001b[0m \u001b[43m    \u001b[49m\u001b[43mmode\u001b[49m\u001b[38;5;241;43m=\u001b[39;49m\u001b[43mmode\u001b[49m\u001b[43m,\u001b[49m\n\u001b[0;32m    205\u001b[0m \u001b[43m    \u001b[49m\u001b[43mstorage_options\u001b[49m\u001b[38;5;241;43m=\u001b[39;49m\u001b[43mstorage_options\u001b[49m\u001b[43m,\u001b[49m\n\u001b[0;32m    206\u001b[0m \u001b[43m    \u001b[49m\u001b[43mif_sheet_exists\u001b[49m\u001b[38;5;241;43m=\u001b[39;49m\u001b[43mif_sheet_exists\u001b[49m\u001b[43m,\u001b[49m\n\u001b[0;32m    207\u001b[0m \u001b[43m    \u001b[49m\u001b[43mengine_kwargs\u001b[49m\u001b[38;5;241;43m=\u001b[39;49m\u001b[43mengine_kwargs\u001b[49m\u001b[43m,\u001b[49m\n\u001b[0;32m    208\u001b[0m \u001b[43m\u001b[49m\u001b[43m)\u001b[49m\n\u001b[0;32m    210\u001b[0m \u001b[38;5;28mself\u001b[39m\u001b[38;5;241m.\u001b[39m_book \u001b[38;5;241m=\u001b[39m Workbook(\u001b[38;5;28mself\u001b[39m\u001b[38;5;241m.\u001b[39m_handles\u001b[38;5;241m.\u001b[39mhandle, \u001b[38;5;241m*\u001b[39m\u001b[38;5;241m*\u001b[39mengine_kwargs)\n",
      "File \u001b[1;32m~\\anaconda3\\envs\\message_env\\lib\\site-packages\\pandas\\io\\excel\\_base.py:1219\u001b[0m, in \u001b[0;36mExcelWriter.__init__\u001b[1;34m(self, path, engine, date_format, datetime_format, mode, storage_options, if_sheet_exists, engine_kwargs)\u001b[0m\n\u001b[0;32m   1215\u001b[0m \u001b[38;5;28mself\u001b[39m\u001b[38;5;241m.\u001b[39m_handles \u001b[38;5;241m=\u001b[39m IOHandles(\n\u001b[0;32m   1216\u001b[0m     cast(IO[\u001b[38;5;28mbytes\u001b[39m], path), compression\u001b[38;5;241m=\u001b[39m{\u001b[38;5;124m\"\u001b[39m\u001b[38;5;124mcompression\u001b[39m\u001b[38;5;124m\"\u001b[39m: \u001b[38;5;28;01mNone\u001b[39;00m}\n\u001b[0;32m   1217\u001b[0m )\n\u001b[0;32m   1218\u001b[0m \u001b[38;5;28;01mif\u001b[39;00m \u001b[38;5;129;01mnot\u001b[39;00m \u001b[38;5;28misinstance\u001b[39m(path, ExcelWriter):\n\u001b[1;32m-> 1219\u001b[0m     \u001b[38;5;28mself\u001b[39m\u001b[38;5;241m.\u001b[39m_handles \u001b[38;5;241m=\u001b[39m \u001b[43mget_handle\u001b[49m\u001b[43m(\u001b[49m\n\u001b[0;32m   1220\u001b[0m \u001b[43m        \u001b[49m\u001b[43mpath\u001b[49m\u001b[43m,\u001b[49m\u001b[43m \u001b[49m\u001b[43mmode\u001b[49m\u001b[43m,\u001b[49m\u001b[43m \u001b[49m\u001b[43mstorage_options\u001b[49m\u001b[38;5;241;43m=\u001b[39;49m\u001b[43mstorage_options\u001b[49m\u001b[43m,\u001b[49m\u001b[43m \u001b[49m\u001b[43mis_text\u001b[49m\u001b[38;5;241;43m=\u001b[39;49m\u001b[38;5;28;43;01mFalse\u001b[39;49;00m\n\u001b[0;32m   1221\u001b[0m \u001b[43m    \u001b[49m\u001b[43m)\u001b[49m\n\u001b[0;32m   1222\u001b[0m \u001b[38;5;28mself\u001b[39m\u001b[38;5;241m.\u001b[39m_cur_sheet \u001b[38;5;241m=\u001b[39m \u001b[38;5;28;01mNone\u001b[39;00m\n\u001b[0;32m   1224\u001b[0m \u001b[38;5;28;01mif\u001b[39;00m date_format \u001b[38;5;129;01mis\u001b[39;00m \u001b[38;5;28;01mNone\u001b[39;00m:\n",
      "File \u001b[1;32m~\\anaconda3\\envs\\message_env\\lib\\site-packages\\pandas\\io\\common.py:737\u001b[0m, in \u001b[0;36mget_handle\u001b[1;34m(path_or_buf, mode, encoding, compression, memory_map, is_text, errors, storage_options)\u001b[0m\n\u001b[0;32m    735\u001b[0m \u001b[38;5;66;03m# Only for write methods\u001b[39;00m\n\u001b[0;32m    736\u001b[0m \u001b[38;5;28;01mif\u001b[39;00m \u001b[38;5;124m\"\u001b[39m\u001b[38;5;124mr\u001b[39m\u001b[38;5;124m\"\u001b[39m \u001b[38;5;129;01mnot\u001b[39;00m \u001b[38;5;129;01min\u001b[39;00m mode \u001b[38;5;129;01mand\u001b[39;00m is_path:\n\u001b[1;32m--> 737\u001b[0m     \u001b[43mcheck_parent_directory\u001b[49m\u001b[43m(\u001b[49m\u001b[38;5;28;43mstr\u001b[39;49m\u001b[43m(\u001b[49m\u001b[43mhandle\u001b[49m\u001b[43m)\u001b[49m\u001b[43m)\u001b[49m\n\u001b[0;32m    739\u001b[0m \u001b[38;5;28;01mif\u001b[39;00m compression:\n\u001b[0;32m    740\u001b[0m     \u001b[38;5;28;01mif\u001b[39;00m compression \u001b[38;5;241m!=\u001b[39m \u001b[38;5;124m\"\u001b[39m\u001b[38;5;124mzstd\u001b[39m\u001b[38;5;124m\"\u001b[39m:\n\u001b[0;32m    741\u001b[0m         \u001b[38;5;66;03m# compression libraries do not like an explicit text-mode\u001b[39;00m\n",
      "File \u001b[1;32m~\\anaconda3\\envs\\message_env\\lib\\site-packages\\pandas\\io\\common.py:600\u001b[0m, in \u001b[0;36mcheck_parent_directory\u001b[1;34m(path)\u001b[0m\n\u001b[0;32m    598\u001b[0m parent \u001b[38;5;241m=\u001b[39m Path(path)\u001b[38;5;241m.\u001b[39mparent\n\u001b[0;32m    599\u001b[0m \u001b[38;5;28;01mif\u001b[39;00m \u001b[38;5;129;01mnot\u001b[39;00m parent\u001b[38;5;241m.\u001b[39mis_dir():\n\u001b[1;32m--> 600\u001b[0m     \u001b[38;5;28;01mraise\u001b[39;00m \u001b[38;5;167;01mOSError\u001b[39;00m(\u001b[38;5;124mrf\u001b[39m\u001b[38;5;124m\"\u001b[39m\u001b[38;5;124mCannot save file into a non-existent directory: \u001b[39m\u001b[38;5;124m'\u001b[39m\u001b[38;5;132;01m{\u001b[39;00mparent\u001b[38;5;132;01m}\u001b[39;00m\u001b[38;5;124m'\u001b[39m\u001b[38;5;124m\"\u001b[39m)\n",
      "\u001b[1;31mOSError\u001b[0m: Cannot save file into a non-existent directory: 'C:\\Users\\kimc0\\MESSAGEix_KR_collabo\\data\\results\\plots'"
     ]
    }
   ],
   "source": [
    "from plotter import plotter\n",
    "plotter(\"Korea baseline\", base, \"Korea\", path + \"//data/results\")"
   ]
  },
  {
   "cell_type": "code",
   "execution_count": 17,
   "metadata": {},
   "outputs": [],
   "source": [
    "# Close the database at the end of your work\n",
    "mp.close_db()"
   ]
  }
 ],
 "metadata": {
  "kernelspec": {
   "display_name": "Python 3 (ipykernel)",
   "language": "python",
   "name": "python3"
  },
  "language_info": {
   "codemirror_mode": {
    "name": "ipython",
    "version": 3
   },
   "file_extension": ".py",
   "mimetype": "text/x-python",
   "name": "python",
   "nbconvert_exporter": "python",
   "pygments_lexer": "ipython3",
   "version": "3.10.10"
  },
  "toc": {
   "base_numbering": 1,
   "nav_menu": {},
   "number_sections": true,
   "sideBar": true,
   "skip_h1_title": false,
   "title_cell": "Table of Contents",
   "title_sidebar": "Contents",
   "toc_cell": false,
   "toc_position": {},
   "toc_section_display": true,
   "toc_window_display": false
  }
 },
 "nbformat": 4,
 "nbformat_minor": 2
}
